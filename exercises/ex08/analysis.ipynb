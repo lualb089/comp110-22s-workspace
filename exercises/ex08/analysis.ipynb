{
 "cells": [
  {
   "cell_type": "markdown",
   "metadata": {},
   "source": [
    "# Analysis for Continuous Improvement\n",
    "\n",
    "Author Name: Lucy Albanil-Rangel\n",
    "\n",
    "9-digit PID: 730480432\n",
    "\n",
    "Continuous Improvement embraces a belief there is _always room to make things better_. It is a mindset and process we value and practice in this course. In this assignment, you are able to practice continuous improvement and contribute to the design ideas of the course.\n",
    "\n",
    "## Brainstorming Ideas\n",
    "\n",
    "Reflect on your personal experiences and observations in COMP110 and **brainstorm modifications to the course that _create value_ beyond its current design**. When brainstorming, try not to be critical of the ideas you come up with regarding scale, stakeholders impacted, or for any other reasons. In the markdown cell below, brainstorm 3 to 5 ideas you think would create value for you.\n",
    "\n",
    "Each brainstormed idea should state a. the suggested change or addition, b. what the expected value created, and c. which specific stakeholders would benefit.  If helpful, expand on the following template \"The course should (state idea here) because it will (state value created here) for (insert stakeholders here).\"\n",
    "\n",
    "Example A: \"The course should use only examples from psychology experiments because it will be more relevant for students who are psychology majors.\"\n",
    "\n",
    "Example B: \"The course should not have post-lesson questions because they are not useful for most students in the class.\""
   ]
  },
  {
   "cell_type": "markdown",
   "metadata": {},
   "source": [
    "### Part 1. Creative Ideation\n",
    "\n",
    "1. This course should make assignments due on Wednesday because it will provide students with more office hours help.\n",
    "2. This course should provide office hour help every day till 8 pm because this will help students who have late classes.\n",
    "3. This course should allow for appointment-only exercises to help after office hours because it will help students and staff be more flexible with their schedules.\n",
    "4. This course should not make the lesson videos and quizzes as long as they are because it will help students manage their time better.\n",
    "5. This course should be more strict on in-person attendance to help motivate students to come to class and pay attention."
   ]
  },
  {
   "cell_type": "markdown",
   "metadata": {},
   "source": [
    "## Connecting with Available Data\n",
    "\n",
    "The data you have available for this analysis is limited to the anonymized course survey you and your peers filled out a few weeks ago. The data is found in the `survey.csv` file in this exercise directory. Each row represents an individual survey response. Each column has a description which can be found on the project write-up here: <https://22s.comp110.com/exercises/ex08.html>\n",
    "\n",
    "Review the list of available data and identify which one of your ideas _does not_, or is _least likely to_, have relevant data to support the analysis of your idea to create value. In the box below, identify which of your ideas lacks data and suggest how we might be able to collect this data in the future. One aspect of _continuous improvement_ is trying to avoid \"tunnel vision\" where possible improvements are not considered because there is no data available to analyze it. Identifying new data sources can unlock improvements!"
   ]
  },
  {
   "cell_type": "markdown",
   "metadata": {},
   "source": [
    "### Part 2. Identifying Missing Data\n",
    "\n",
    "1. Idea without sufficient data to analyze:\n",
    "\n",
    "    This course should not make the lesson videos and quizzes as long as they are because it will help students manage their time better.\n",
    "\n",
    "\n",
    "\n",
    "2. Suggestions for how to collect data to support this idea in the future: \n",
    "\n",
    "    To get more data on this topic you should as the following question: \"Does the asynchronous lessons take more of your time than in-person lessons?\" Asking this question will provide data for the topic. It will help figure out how students feel about the length of the lessons."
   ]
  },
  {
   "cell_type": "markdown",
   "metadata": {},
   "source": [
    "## Choosing an Idea to Analyze\n",
    "\n",
    "Consider those of your ideas which _do_ seem likely to have relevant data to analyze. If none of your ideas do, spend a few minutes and brainstorm another idea or two with the added connection of data available on hand and add those ideas to your brainstormed ideas list.\n",
    "\n",
    "Select the one idea which you believe is _most valuable_ to analyze relative to the others and has data to support the analysis of. In the markdown cell for Part 3 below, identify the idea you are exploring and articulate why you believe it is most valuable (e.g. widest impact, biggest opportunity for improvement, simplest change for significant improvement, and so on)."
   ]
  },
  {
   "cell_type": "markdown",
   "metadata": {},
   "source": [
    "### Part 3. Choosing Your Analysis\n",
    "\n",
    "1. Idea to analyze with available data:\n",
    "    \n",
    "    This course should be more strict on in-person attendance to help motivate students to come to class and pay attention.\n",
    "\n",
    "2. This idea is more valuable than the others brainstormed because: \n",
    "    \n",
    "    This is the best idea to analyze because there is a specific question that gives the needed data. \"Moving forward in the semester, student believes in-person lectures should not be live streamed so that everyone is required to attend in-person.\" This provides the needed data for the idea that in-person attendance should be required. So I would compare no_hybrid and understanding."
   ]
  },
  {
   "cell_type": "markdown",
   "metadata": {},
   "source": [
    "## Your Analysis\n",
    "\n",
    "Before you begin analysis, a reminder that we do not expect the data to support everyone's ideas and you can complete this exercise for full credit even if the data does not clearly support your suggestion or even completely refutes it. What we are looking for is a logical attempt to explore the data using the techniques you have learned up until now in a way that _either_ supports, refutes, or does not have a clear result and then to reflect on your findings after the analysis.\n",
    "\n",
    "Using the utility functions you created for the previous exercise, you will continue with your analysis in the following part. Before you begin, refer to the rubric on the technical expectations of this section in the exercise write-up.\n",
    "\n",
    "In this section, you are expected to interleave code and markdown cells such that for each step of your analysis you are starting with an English description of what you are planning to do next in a markdown cell, followed by a Python cell that performs that step of the analysis."
   ]
  },
  {
   "cell_type": "markdown",
   "metadata": {},
   "source": [
    "### Part 4. Analysis\n",
    "\n",
    "We begin by changing some settings in the notebook to automatically reload changes to imported files."
   ]
  },
  {
   "cell_type": "code",
   "execution_count": 93,
   "metadata": {},
   "outputs": [],
   "source": [
    "%reload_ext autoreload\n",
    "%autoreload 2"
   ]
  },
  {
   "cell_type": "markdown",
   "metadata": {},
   "source": [
    "We continue by importing the helper functions from `data_utils`."
   ]
  },
  {
   "cell_type": "code",
   "execution_count": 94,
   "metadata": {},
   "outputs": [],
   "source": [
    "from data_utils import *"
   ]
  },
  {
   "cell_type": "markdown",
   "metadata": {},
   "source": [
    "Next, ... (you take it from here and add additional code and markdown cells to read in the CSV file and process it as needed)"
   ]
  },
  {
   "cell_type": "markdown",
   "metadata": {},
   "source": [
    "Import tabluate function for visual "
   ]
  },
  {
   "cell_type": "code",
   "execution_count": 95,
   "metadata": {},
   "outputs": [],
   "source": [
    "from tabulate import tabulate"
   ]
  },
  {
   "cell_type": "markdown",
   "metadata": {},
   "source": [
    "Importing Data Path"
   ]
  },
  {
   "cell_type": "code",
   "execution_count": 96,
   "metadata": {},
   "outputs": [],
   "source": [
    "DATA_DIRECTORY=\"../../data\"\n",
    "DATA_FILE_PATH=f\"{DATA_DIRECTORY}/survey.csv\""
   ]
  },
  {
   "cell_type": "code",
   "execution_count": 97,
   "metadata": {},
   "outputs": [],
   "source": [
    "SURVEY_DATA_CSV_FILE_PATH: str = \"../../data/survey.csv\""
   ]
  },
  {
   "cell_type": "markdown",
   "metadata": {},
   "source": [
    "Import read_cvs_rows to get all the data from the survey"
   ]
  },
  {
   "cell_type": "code",
   "execution_count": 98,
   "metadata": {},
   "outputs": [],
   "source": [
    "from data_utils import read_csv_rows\n",
    "data_rows: list[dict[str, str]] = read_csv_rows(DATA_FILE_PATH)"
   ]
  },
  {
   "cell_type": "markdown",
   "metadata": {},
   "source": [
    "Calling helper function to filter data "
   ]
  },
  {
   "cell_type": "code",
   "execution_count": 99,
   "metadata": {},
   "outputs": [],
   "source": [
    "filter_data_nh: list[dict[str, str]] = helper(data_rows, \"no_hybrid\") \n",
    "filter_data_u: list[dict[str, str]] = helper(data_rows, \"understanding\")"
   ]
  },
  {
   "cell_type": "markdown",
   "metadata": {},
   "source": [
    "Calling columnar to make row-orientated data to column-orientated data "
   ]
  },
  {
   "cell_type": "code",
   "execution_count": 100,
   "metadata": {},
   "outputs": [],
   "source": [
    "columns_nh: dict[str, list[str]] = columnar(filter_data_nh)\n",
    "columns_u: dict[str, list[str]] = columnar(filter_data_u)\n",
    "\n",
    "# print(columns)"
   ]
  },
  {
   "cell_type": "markdown",
   "metadata": {},
   "source": [
    "Using the select function to get the data/dictionaries I need "
   ]
  },
  {
   "cell_type": "code",
   "execution_count": 101,
   "metadata": {},
   "outputs": [
    {
     "data": {
      "text/html": [
       "<table>\n",
       "<thead>\n",
       "<tr><th style=\"text-align: right;\">  no_hybrid</th></tr>\n",
       "</thead>\n",
       "<tbody>\n",
       "<tr><td style=\"text-align: right;\">          5</td></tr>\n",
       "<tr><td style=\"text-align: right;\">          5</td></tr>\n",
       "<tr><td style=\"text-align: right;\">          6</td></tr>\n",
       "<tr><td style=\"text-align: right;\">          5</td></tr>\n",
       "<tr><td style=\"text-align: right;\">          5</td></tr>\n",
       "<tr><td style=\"text-align: right;\">          6</td></tr>\n",
       "<tr><td style=\"text-align: right;\">          5</td></tr>\n",
       "<tr><td style=\"text-align: right;\">          5</td></tr>\n",
       "<tr><td style=\"text-align: right;\">          6</td></tr>\n",
       "<tr><td style=\"text-align: right;\">          7</td></tr>\n",
       "<tr><td style=\"text-align: right;\">          5</td></tr>\n",
       "<tr><td style=\"text-align: right;\">          7</td></tr>\n",
       "<tr><td style=\"text-align: right;\">          7</td></tr>\n",
       "<tr><td style=\"text-align: right;\">          5</td></tr>\n",
       "<tr><td style=\"text-align: right;\">          6</td></tr>\n",
       "</tbody>\n",
       "</table>"
      ],
      "text/plain": [
       "'<table>\\n<thead>\\n<tr><th style=\"text-align: right;\">  no_hybrid</th></tr>\\n</thead>\\n<tbody>\\n<tr><td style=\"text-align: right;\">          5</td></tr>\\n<tr><td style=\"text-align: right;\">          5</td></tr>\\n<tr><td style=\"text-align: right;\">          6</td></tr>\\n<tr><td style=\"text-align: right;\">          5</td></tr>\\n<tr><td style=\"text-align: right;\">          5</td></tr>\\n<tr><td style=\"text-align: right;\">          6</td></tr>\\n<tr><td style=\"text-align: right;\">          5</td></tr>\\n<tr><td style=\"text-align: right;\">          5</td></tr>\\n<tr><td style=\"text-align: right;\">          6</td></tr>\\n<tr><td style=\"text-align: right;\">          7</td></tr>\\n<tr><td style=\"text-align: right;\">          5</td></tr>\\n<tr><td style=\"text-align: right;\">          7</td></tr>\\n<tr><td style=\"text-align: right;\">          7</td></tr>\\n<tr><td style=\"text-align: right;\">          5</td></tr>\\n<tr><td style=\"text-align: right;\">          6</td></tr>\\n</tbody>\\n</table>'"
      ]
     },
     "execution_count": 101,
     "metadata": {},
     "output_type": "execute_result"
    }
   ],
   "source": [
    "no_hybrid_students: dict[str, list[str]] = select(columns_nh, [\"no_hybrid\"])\n",
    "understanding_students: dict[str, list[str]] = select(columns_u, [\"understanding\"])\n",
    "\n",
    "tabulate(head(no_hybrid_students, 15), no_hybrid_students.keys(), \"html\")\n"
   ]
  },
  {
   "cell_type": "code",
   "execution_count": 102,
   "metadata": {},
   "outputs": [
    {
     "data": {
      "text/html": [
       "<table>\n",
       "<thead>\n",
       "<tr><th style=\"text-align: right;\">  understanding</th></tr>\n",
       "</thead>\n",
       "<tbody>\n",
       "<tr><td style=\"text-align: right;\">              7</td></tr>\n",
       "<tr><td style=\"text-align: right;\">              6</td></tr>\n",
       "<tr><td style=\"text-align: right;\">              5</td></tr>\n",
       "<tr><td style=\"text-align: right;\">              5</td></tr>\n",
       "<tr><td style=\"text-align: right;\">              6</td></tr>\n",
       "<tr><td style=\"text-align: right;\">              6</td></tr>\n",
       "<tr><td style=\"text-align: right;\">              7</td></tr>\n",
       "<tr><td style=\"text-align: right;\">              6</td></tr>\n",
       "<tr><td style=\"text-align: right;\">              6</td></tr>\n",
       "<tr><td style=\"text-align: right;\">              7</td></tr>\n",
       "<tr><td style=\"text-align: right;\">              5</td></tr>\n",
       "<tr><td style=\"text-align: right;\">              7</td></tr>\n",
       "<tr><td style=\"text-align: right;\">              5</td></tr>\n",
       "<tr><td style=\"text-align: right;\">              6</td></tr>\n",
       "<tr><td style=\"text-align: right;\">              6</td></tr>\n",
       "</tbody>\n",
       "</table>"
      ],
      "text/plain": [
       "'<table>\\n<thead>\\n<tr><th style=\"text-align: right;\">  understanding</th></tr>\\n</thead>\\n<tbody>\\n<tr><td style=\"text-align: right;\">              7</td></tr>\\n<tr><td style=\"text-align: right;\">              6</td></tr>\\n<tr><td style=\"text-align: right;\">              5</td></tr>\\n<tr><td style=\"text-align: right;\">              5</td></tr>\\n<tr><td style=\"text-align: right;\">              6</td></tr>\\n<tr><td style=\"text-align: right;\">              6</td></tr>\\n<tr><td style=\"text-align: right;\">              7</td></tr>\\n<tr><td style=\"text-align: right;\">              6</td></tr>\\n<tr><td style=\"text-align: right;\">              6</td></tr>\\n<tr><td style=\"text-align: right;\">              7</td></tr>\\n<tr><td style=\"text-align: right;\">              5</td></tr>\\n<tr><td style=\"text-align: right;\">              7</td></tr>\\n<tr><td style=\"text-align: right;\">              5</td></tr>\\n<tr><td style=\"text-align: right;\">              6</td></tr>\\n<tr><td style=\"text-align: right;\">              6</td></tr>\\n</tbody>\\n</table>'"
      ]
     },
     "execution_count": 102,
     "metadata": {},
     "output_type": "execute_result"
    }
   ],
   "source": [
    "tabulate(head(understanding_students, 15), understanding_students.keys(), \"html\")"
   ]
  },
  {
   "cell_type": "markdown",
   "metadata": {},
   "source": [
    "Using the head function to make a new column-based table with the needed data"
   ]
  },
  {
   "cell_type": "code",
   "execution_count": 103,
   "metadata": {},
   "outputs": [
    {
     "name": "stdout",
     "output_type": "stream",
     "text": [
      "{'no_hybrid': ['5', '5', '6', '5', '5', '6', '5', '5', '6', '7', '5', '7', '7', '5', '6']}\n",
      "{'understanding': ['7', '6', '5', '5', '6', '6', '7', '6', '6', '7', '5', '7', '5', '6', '6']}\n"
     ]
    }
   ],
   "source": [
    "no_hybrid_head: dict[str, list[str]] = head(no_hybrid_students, 15)\n",
    "understanding_head: dict[str, list[str]] = head(understanding_students, 15)\n",
    "\n",
    "tabulate(no_hybrid_head, no_hybrid_head.keys(), \"html\")\n",
    "tabulate(understanding_head, understanding_head.keys(), \"html\")\n",
    "\n",
    "print(no_hybrid_head)\n",
    "print(understanding_head)"
   ]
  },
  {
   "cell_type": "markdown",
   "metadata": {},
   "source": [
    "Using count function to sort throught the data"
   ]
  },
  {
   "cell_type": "code",
   "execution_count": 104,
   "metadata": {},
   "outputs": [
    {
     "name": "stdout",
     "output_type": "stream",
     "text": [
      "People who responded with 5+ in no_hybrid: {'5': 8, '6': 4, '7': 3}\n",
      "People who responded with 5+ in understanding: {'7': 4, '6': 7, '5': 4}\n"
     ]
    }
   ],
   "source": [
    "count_nh: dict[str, int] = count(no_hybrid_head[\"no_hybrid\"]) \n",
    "count_u: dict[str, int] = count(understanding_head[\"understanding\"]) \n",
    "\n",
    "print(f\"People who responded with 5+ in no_hybrid: {count_nh}\")\n",
    "print(f\"People who responded with 5+ in understanding: {count_u}\")"
   ]
  },
  {
   "cell_type": "markdown",
   "metadata": {},
   "source": [
    "Charting how \"understanding\" and \"no_hybrid\" relate to eachother"
   ]
  },
  {
   "cell_type": "code",
   "execution_count": 105,
   "metadata": {},
   "outputs": [
    {
     "ename": "AttributeError",
     "evalue": "'list' object has no attribute 'items'",
     "output_type": "error",
     "traceback": [
      "\u001b[1;31m---------------------------------------------------------------------------\u001b[0m",
      "\u001b[1;31mAttributeError\u001b[0m                            Traceback (most recent call last)",
      "\u001b[1;32mc:\\Users\\Albanil\\comp110-22s-workspace\\exercises\\ex08\\analysis.ipynb Cell 32'\u001b[0m in \u001b[0;36m<module>\u001b[1;34m\u001b[0m\n\u001b[0;32m      <a href='vscode-notebook-cell:/c%3A/Users/Albanil/comp110-22s-workspace/exercises/ex08/analysis.ipynb#ch0000033?line=0'>1</a>\u001b[0m \u001b[39mfrom\u001b[39;00m \u001b[39mmatplotlib\u001b[39;00m \u001b[39mimport\u001b[39;00m pyplot\n\u001b[1;32m----> <a href='vscode-notebook-cell:/c%3A/Users/Albanil/comp110-22s-workspace/exercises/ex08/analysis.ipynb#ch0000033?line=2'>3</a>\u001b[0m bar \u001b[39m=\u001b[39m \u001b[39mdict\u001b[39m(\u001b[39msorted\u001b[39m(filter_data_nh\u001b[39m.\u001b[39;49mitems()))\n\u001b[0;32m      <a href='vscode-notebook-cell:/c%3A/Users/Albanil/comp110-22s-workspace/exercises/ex08/analysis.ipynb#ch0000033?line=3'>4</a>\u001b[0m bar \u001b[39m=\u001b[39m \u001b[39mdict\u001b[39m(\u001b[39msorted\u001b[39m(filter_data_u\u001b[39m.\u001b[39mitems()))\n\u001b[0;32m      <a href='vscode-notebook-cell:/c%3A/Users/Albanil/comp110-22s-workspace/exercises/ex08/analysis.ipynb#ch0000033?line=4'>5</a>\u001b[0m pyplot\u001b[39m.\u001b[39mtitle(\u001b[39m\"\u001b[39m\u001b[39mHow \u001b[39m\u001b[39m'\u001b[39m\u001b[39munderstanding\u001b[39m\u001b[39m'\u001b[39m\u001b[39m and \u001b[39m\u001b[39m'\u001b[39m\u001b[39mno_hybrid\u001b[39m\u001b[39m'\u001b[39m\u001b[39m relate to each other.\u001b[39m\u001b[39m\"\u001b[39m)\n",
      "\u001b[1;31mAttributeError\u001b[0m: 'list' object has no attribute 'items'"
     ]
    }
   ],
   "source": [
    "from matplotlib import pyplot\n",
    "\n",
    "bar = dict(sorted(filter_data_nh.items()))\n",
    "bar = dict(sorted(filter_data_u.items()))\n",
    "pyplot.title(\"How 'understanding' and 'no_hybrid' relate to each other.\")\n",
    "pyplot.xlabel(\"understanding\")\n",
    "pyplot.ylabel(\"no_hybrid\")\n",
    "name: list[str] = list(bar.keys())\n",
    "item: list[int] = list(bar.values())\n",
    "pyplot.bar(name, item)"
   ]
  },
  {
   "cell_type": "markdown",
   "metadata": {},
   "source": [
    "## Conclusion\n",
    "\n",
    "In the following markdown cell, write a reflective conclusion given the analysis you performed and identify recommendations.\n",
    "\n",
    "If your analysis of the data supports your idea, state your recommendation for the change and summarize the data analysys results you found which support it. Additionally, describe any extensions or refinements to this idea which might be explored further. Finally, discuss the potential costs, trade-offs, or stakeholders who may be negatively impacted by this proposed change.\n",
    "\n",
    "If your analysis of the data is inconclusive, summarize why your data analysis results were inconclusive in the support of your idea. Additionally, describe what experimental idea implementation or additional data collection might help build more confidence in assessing your idea. Finally, discuss the potential costs, trade-offs, or stakeholders who may be negatively impacted by experimenting with your idea.\n",
    "\n",
    "Finally, if your analysis of the data does not support it, summarize your data analysis results and why it refutes your idea. Discuss the potential costs, trade-offs, or stakeholders who may be negatively impacted by this proposed change. If you disagree with the validity of the findings, describe why your idea still makes sense to implement and what alternative data would better support it. If you agree with the validity of the data analysis, describe what alternate ideas or extensions you would explore instead. "
   ]
  },
  {
   "cell_type": "markdown",
   "metadata": {},
   "source": [
    "### Part 5. Conclusion\n",
    "\n"
   ]
  },
  {
   "cell_type": "markdown",
   "metadata": {},
   "source": [
    "My analysis of the data does support my idea that in-person classes should be required to help students better understand the content. There was a trend were the students who said that they support in-person show more better understanding of the content. The cost could be a negative because they will have to hold that many students. It is expensive to host many people in a building."
   ]
  }
 ],
 "metadata": {
  "interpreter": {
   "hash": "aee8b7b246df8f9039afb4144a1f6fd8d2ca17a180786b69acc140d282b71a49"
  },
  "kernelspec": {
   "display_name": "Python 3.10.2 64-bit",
   "language": "python",
   "name": "python3"
  },
  "language_info": {
   "codemirror_mode": {
    "name": "ipython",
    "version": 3
   },
   "file_extension": ".py",
   "mimetype": "text/x-python",
   "name": "python",
   "nbconvert_exporter": "python",
   "pygments_lexer": "ipython3",
   "version": "3.10.2"
  },
  "orig_nbformat": 4
 },
 "nbformat": 4,
 "nbformat_minor": 2
}
